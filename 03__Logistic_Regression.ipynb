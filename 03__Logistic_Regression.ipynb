{
 "cells": [
  {
   "cell_type": "markdown",
   "id": "c88b15e5-026a-45e5-a3e9-afdfd3c27f43",
   "metadata": {},
   "source": [
    "# Logistic Regression Algorithm"
   ]
  },
  {
   "cell_type": "markdown",
   "id": "fc95550c-eb92-467e-882a-5ae6c2702e41",
   "metadata": {},
   "source": [
    "### Importing the libraries"
   ]
  },
  {
   "cell_type": "code",
   "execution_count": 1,
   "id": "6633e8b1-2a00-499f-98cc-deab80f072ff",
   "metadata": {},
   "outputs": [],
   "source": [
    "import numpy as np"
   ]
  },
  {
   "cell_type": "code",
   "execution_count": 2,
   "id": "a849c29a-2875-4f8f-beaf-505ec0b590ef",
   "metadata": {},
   "outputs": [],
   "source": [
    "w = np.array([[1,1,1,1],[1,0,1,0],[0,2,1,1]])\n",
    "W = np.array([1,0,0])"
   ]
  },
  {
   "cell_type": "code",
   "execution_count": 3,
   "id": "09d188bb-9831-47f0-b866-64604230dc02",
   "metadata": {},
   "outputs": [
    {
     "data": {
      "text/plain": [
       "(3, 100)"
      ]
     },
     "execution_count": 3,
     "metadata": {},
     "output_type": "execute_result"
    }
   ],
   "source": [
    "x = np.random.randn(100,3)\n",
    "x.T.shape"
   ]
  },
  {
   "cell_type": "code",
   "execution_count": 4,
   "id": "462ee000-2047-45bd-9eca-8f7077d093f3",
   "metadata": {},
   "outputs": [
    {
     "data": {
      "text/plain": [
       "(100,)"
      ]
     },
     "execution_count": 4,
     "metadata": {},
     "output_type": "execute_result"
    }
   ],
   "source": [
    "np.dot(W,x.T).shape"
   ]
  },
  {
   "cell_type": "markdown",
   "id": "e36967b8-cf00-4a25-a98d-c6a2afef1de8",
   "metadata": {},
   "source": [
    "### Importing the dataset"
   ]
  },
  {
   "cell_type": "code",
   "execution_count": 5,
   "id": "9d00b54d-7830-44c0-9e6a-aa12296f7f2c",
   "metadata": {},
   "outputs": [],
   "source": [
    "from sklearn import datasets"
   ]
  },
  {
   "cell_type": "code",
   "execution_count": 25,
   "id": "5c4a9cc5-d338-43cc-9f9b-147f80394851",
   "metadata": {},
   "outputs": [],
   "source": [
    "data = datasets.load_breast_cancer()\n",
    "X = data['data']\n",
    "y = data['target']"
   ]
  },
  {
   "cell_type": "code",
   "execution_count": 26,
   "id": "c95d581a-712c-4a91-8c64-2b75a0f09c8e",
   "metadata": {},
   "outputs": [
    {
     "data": {
      "text/plain": [
       "(569, 30)"
      ]
     },
     "execution_count": 26,
     "metadata": {},
     "output_type": "execute_result"
    }
   ],
   "source": [
    "X.shape"
   ]
  },
  {
   "cell_type": "code",
   "execution_count": 28,
   "id": "231781d1-f631-4ea1-bc67-bfba02ddce2e",
   "metadata": {},
   "outputs": [
    {
     "data": {
      "text/plain": [
       "(569,)"
      ]
     },
     "execution_count": 28,
     "metadata": {},
     "output_type": "execute_result"
    }
   ],
   "source": [
    "y.shape"
   ]
  },
  {
   "cell_type": "markdown",
   "id": "88a5c3bb-ffbf-411a-99cc-602ea04a7ae9",
   "metadata": {},
   "source": [
    "### Splitting the dataset into the Training set and Test set"
   ]
  },
  {
   "cell_type": "code",
   "execution_count": 29,
   "id": "d7eaaae2-ded7-4cf8-8c89-0c11f4c654e6",
   "metadata": {},
   "outputs": [],
   "source": [
    "from sklearn.model_selection import train_test_split"
   ]
  },
  {
   "cell_type": "code",
   "execution_count": 30,
   "id": "9f327dc6-6b60-4e7b-aebe-4ce44cd9f8a3",
   "metadata": {},
   "outputs": [],
   "source": [
    "X_train, X_test, y_train, y_test = train_test_split(X, y, test_size=0.2, random_state=1234)"
   ]
  },
  {
   "cell_type": "markdown",
   "id": "91c83ce4-e7b6-436a-ac14-eda6c495428c",
   "metadata": {},
   "source": [
    "## Creating the architecture of Linear Regression"
   ]
  },
  {
   "cell_type": "code",
   "execution_count": 40,
   "id": "953c2b55-5cf4-489f-9a84-dd7a1c74ba4e",
   "metadata": {},
   "outputs": [],
   "source": [
    "class LogisticRegression:\n",
    "    def __init__(self, lr=0.001, n_iter=1000):\n",
    "        self.lr = lr\n",
    "        self.n_iter = n_iter\n",
    "        self.W = None\n",
    "        self.b = None\n",
    "\n",
    "    def fit(self, X, y):\n",
    "        N, m = X.shape\n",
    "        self.W = np.zeros(m)\n",
    "        self.b = 0\n",
    "\n",
    "        for _ in range(self.n_iter):\n",
    "            linear_model = np.dot(X, self.W) + self.b\n",
    "            y_pred = self._sigmiod(linear_model)\n",
    "            \n",
    "            self.W += (self.lr/N)*np.dot(X.T, (y - y_pred))\n",
    "            self.b += (self.lr/N)*np.sum(y - y_pred)\n",
    "        \n",
    "    def predict(self, X):\n",
    "        linear_model = np.dot(X, self.W) + self.b\n",
    "        y_hat = self._sigmiod(linear_model)\n",
    "        classes = [1 if y>0.5 else 0 for y in y_hat]\n",
    "        return np.array(classes)\n",
    "    \n",
    "    def _sigmiod(self, x):\n",
    "        return 1/(1 + np.exp(-x))"
   ]
  },
  {
   "cell_type": "markdown",
   "id": "c3eaec42-7baa-47b4-aef0-80a0819881f3",
   "metadata": {},
   "source": [
    "## Visualizing the data"
   ]
  },
  {
   "cell_type": "code",
   "execution_count": 35,
   "id": "0a36d5fc-aad9-4e38-a6d8-e8e6d21c9097",
   "metadata": {},
   "outputs": [],
   "source": [
    "import matplotlib.pyplot as plt"
   ]
  },
  {
   "cell_type": "code",
   "execution_count": 36,
   "id": "65a93eed-9593-41b7-9a53-7bfc70a6e241",
   "metadata": {},
   "outputs": [
    {
     "data": {
      "image/png": "[encoded data removed]",
      "text/plain": [
       "<Figure size 800x600 with 1 Axes>"
      ]
     },
     "metadata": {},
     "output_type": "display_data"
    }
   ],
   "source": [
    "plt.figure(figsize=(8,6))\n",
    "plt.scatter(X[:, 0], y, color='b', marker='o', s=20)\n",
    "plt.show()"
   ]
  },
  {
   "cell_type": "markdown",
   "id": "a4a3cef9-48c9-40b8-afb9-bf426435711d",
   "metadata": {},
   "source": [
    "### Training the Regression"
   ]
  },
  {
   "cell_type": "code",
   "execution_count": 55,
   "id": "498fc8dc-ec27-4260-9b5c-438f402f634b",
   "metadata": {},
   "outputs": [
    {
     "name": "stderr",
     "output_type": "stream",
     "text": [
      "/var/folders/br/pq4r4jdj7n370js8hxvml1vm0000gn/T/ipykernel_1605/2650448664.py:27: RuntimeWarning: overflow encountered in exp\n",
      "  return 1/(1 + np.exp(-x))\n"
     ]
    }
   ],
   "source": [
    "regressor = LogisticRegression(lr=0.1,n_iter=1000)\n",
    "regressor.fit(X_train,y_train)"
   ]
  },
  {
   "cell_type": "markdown",
   "id": "9ec0da32-2d98-428f-84b6-4875043a11f5",
   "metadata": {},
   "source": [
    "### Predicting the Test set results"
   ]
  },
  {
   "cell_type": "code",
   "execution_count": 56,
   "id": "e9c824fe-3fb2-40c2-bfbd-d6f6e06df40e",
   "metadata": {},
   "outputs": [
    {
     "name": "stderr",
     "output_type": "stream",
     "text": [
      "/var/folders/br/pq4r4jdj7n370js8hxvml1vm0000gn/T/ipykernel_1605/2650448664.py:27: RuntimeWarning: overflow encountered in exp\n",
      "  return 1/(1 + np.exp(-x))\n"
     ]
    }
   ],
   "source": [
    "y_pred = regressor.predict(X_test)"
   ]
  },
  {
   "cell_type": "markdown",
   "id": "deb97533-e6aa-4108-b91d-f4b9863c7f95",
   "metadata": {},
   "source": [
    "### Calculating the Accuracy"
   ]
  },
  {
   "cell_type": "code",
   "execution_count": 57,
   "id": "326d75f7-6c1d-4182-970b-0478e3d4351a",
   "metadata": {},
   "outputs": [],
   "source": [
    "def accuracy(y, y_hat):\n",
    "    return np.sum(y==y_hat)/len(y)"
   ]
  },
  {
   "cell_type": "code",
   "execution_count": 58,
   "id": "2dd14bfc-5e73-4c48-8fc8-6a3bee48bdc4",
   "metadata": {},
   "outputs": [
    {
     "name": "stdout",
     "output_type": "stream",
     "text": [
      "Accuracy:  0.9210526315789473\n"
     ]
    }
   ],
   "source": [
    "print('Accuracy: ', accuracy(y_test, y_pred))"
   ]
  },
  {
   "cell_type": "markdown",
   "id": "9a3658bc-eea2-4520-8175-d64414790082",
   "metadata": {},
   "source": [
    "### Calucating Accuracy"
   ]
  },
  {
   "cell_type": "code",
   "execution_count": 59,
   "id": "8e7d82ce-9e87-4979-823d-9a13600d18f1",
   "metadata": {},
   "outputs": [],
   "source": [
    "def r2_score(y_true, y_pred):\n",
    "    corr_matrix = np.corrcoef(y_true, y_pred)\n",
    "    corr = corr_matrix[0, 1]\n",
    "    return corr ** 2"
   ]
  },
  {
   "cell_type": "code",
   "execution_count": 60,
   "id": "fba23d05-89ad-4a5e-bf0d-35c129881e2a",
   "metadata": {},
   "outputs": [
    {
     "name": "stdout",
     "output_type": "stream",
     "text": [
      "Accuracy: 0.6957902001380272\n"
     ]
    }
   ],
   "source": [
    "accu = r2_score(y_test, y_pred)\n",
    "print(\"Accuracy:\", accu)"
   ]
  },
  {
   "cell_type": "code",
   "execution_count": null,
   "id": "eb696ade-9b3a-4d24-a14d-f8365aad9c67",
   "metadata": {},
   "outputs": [],
   "source": []
  }
 ],
 "metadata": {
  "kernelspec": {
   "display_name": "Python 3 (ipykernel)",
   "language": "python",
   "name": "python3"
  },
  "language_info": {
   "codemirror_mode": {
    "name": "ipython",
    "version": 3
   },
   "file_extension": ".py",
   "mimetype": "text/x-python",
   "name": "python",
   "nbconvert_exporter": "python",
   "pygments_lexer": "ipython3",
   "version": "3.11.5"
  }
 },
 "nbformat": 4,
 "nbformat_minor": 5
}
