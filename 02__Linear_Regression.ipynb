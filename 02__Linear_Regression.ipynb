{
 "cells": [
  {
   "cell_type": "markdown",
   "id": "c88b15e5-026a-45e5-a3e9-afdfd3c27f43",
   "metadata": {},
   "source": [
    "# Linear Regression Algorithm"
   ]
  },
  {
   "cell_type": "markdown",
   "id": "fc95550c-eb92-467e-882a-5ae6c2702e41",
   "metadata": {},
   "source": [
    "### Importing the libraries"
   ]
  },
  {
   "cell_type": "code",
   "execution_count": 2,
   "id": "6633e8b1-2a00-499f-98cc-deab80f072ff",
   "metadata": {},
   "outputs": [],
   "source": [
    "import numpy as np"
   ]
  },
  {
   "cell_type": "code",
   "execution_count": 5,
   "id": "a849c29a-2875-4f8f-beaf-505ec0b590ef",
   "metadata": {},
   "outputs": [],
   "source": [
    "w = np.array([[1,1,1,1],[1,0,1,0],[0,2,1,1]])\n",
    "W = np.array([1,0,0])"
   ]
  },
  {
   "cell_type": "code",
   "execution_count": 12,
   "id": "09d188bb-9831-47f0-b866-64604230dc02",
   "metadata": {},
   "outputs": [
    {
     "data": {
      "text/plain": [
       "(3, 100)"
      ]
     },
     "execution_count": 12,
     "metadata": {},
     "output_type": "execute_result"
    }
   ],
   "source": [
    "x = np.random.randn(100,3)\n",
    "x.T.shape"
   ]
  },
  {
   "cell_type": "code",
   "execution_count": 10,
   "id": "462ee000-2047-45bd-9eca-8f7077d093f3",
   "metadata": {},
   "outputs": [
    {
     "data": {
      "text/plain": [
       "(100,)"
      ]
     },
     "execution_count": 10,
     "metadata": {},
     "output_type": "execute_result"
    }
   ],
   "source": [
    "np.dot(W,x.T).shape"
   ]
  },
  {
   "cell_type": "markdown",
   "id": "e36967b8-cf00-4a25-a98d-c6a2afef1de8",
   "metadata": {},
   "source": [
    "### Importing the dataset"
   ]
  },
  {
   "cell_type": "code",
   "execution_count": 5,
   "id": "9d00b54d-7830-44c0-9e6a-aa12296f7f2c",
   "metadata": {},
   "outputs": [],
   "source": [
    "from sklearn import datasets"
   ]
  },
  {
   "cell_type": "code",
   "execution_count": 6,
   "id": "5c4a9cc5-d338-43cc-9f9b-147f80394851",
   "metadata": {},
   "outputs": [],
   "source": [
    "X, y = datasets.make_regression(n_samples=100, n_features=1, noise=20, random_state=4)"
   ]
  },
  {
   "cell_type": "code",
   "execution_count": 7,
   "id": "c95d581a-712c-4a91-8c64-2b75a0f09c8e",
   "metadata": {},
   "outputs": [
    {
     "data": {
      "text/plain": [
       "(100, 1)"
      ]
     },
     "execution_count": 7,
     "metadata": {},
     "output_type": "execute_result"
    }
   ],
   "source": [
    "X.shape"
   ]
  },
  {
   "cell_type": "code",
   "execution_count": 8,
   "id": "231781d1-f631-4ea1-bc67-bfba02ddce2e",
   "metadata": {},
   "outputs": [
    {
     "data": {
      "text/plain": [
       "(100,)"
      ]
     },
     "execution_count": 8,
     "metadata": {},
     "output_type": "execute_result"
    }
   ],
   "source": [
    "y.shape"
   ]
  },
  {
   "cell_type": "markdown",
   "id": "88a5c3bb-ffbf-411a-99cc-602ea04a7ae9",
   "metadata": {},
   "source": [
    "### Splitting the dataset into the Training set and Test set"
   ]
  },
  {
   "cell_type": "code",
   "execution_count": 9,
   "id": "d7eaaae2-ded7-4cf8-8c89-0c11f4c654e6",
   "metadata": {},
   "outputs": [],
   "source": [
    "from sklearn.model_selection import train_test_split"
   ]
  },
  {
   "cell_type": "code",
   "execution_count": 10,
   "id": "9f327dc6-6b60-4e7b-aebe-4ce44cd9f8a3",
   "metadata": {},
   "outputs": [],
   "source": [
    "X_train, X_test, y_train, y_test = train_test_split(X, y, test_size=0.2, random_state=1234)"
   ]
  },
  {
   "cell_type": "markdown",
   "id": "91c83ce4-e7b6-436a-ac14-eda6c495428c",
   "metadata": {},
   "source": [
    "## Creating the architecture of Linear Regression"
   ]
  },
  {
   "cell_type": "code",
   "execution_count": 11,
   "id": "953c2b55-5cf4-489f-9a84-dd7a1c74ba4e",
   "metadata": {},
   "outputs": [],
   "source": [
    "class LinearRegression:\n",
    "    def __init__(self, lr=0.001, n_iter=1000):\n",
    "        self.lr = lr\n",
    "        self.n_iter = n_iter\n",
    "        self.W = None\n",
    "        self.b = None\n",
    "\n",
    "    def fit(self, X, y):\n",
    "        N, m = X.shape\n",
    "        self.W = np.zeros(m)\n",
    "        self.b = 0\n",
    "\n",
    "        for _ in range(self.n_iter):\n",
    "            y_pred = np.dot(X, self.W) + self.b\n",
    "            self.W += (self.lr/N)*np.dot(X.T, (y - y_pred))\n",
    "            self.b += (self.lr/N)*np.sum(y - y_pred)\n",
    "        \n",
    "    def predict(self, X):\n",
    "        y_hat = np.dot(X, self.W) + self.b\n",
    "        return y_hat"
   ]
  },
  {
   "cell_type": "markdown",
   "id": "c3eaec42-7baa-47b4-aef0-80a0819881f3",
   "metadata": {},
   "source": [
    "## Visualizing the data"
   ]
  },
  {
   "cell_type": "code",
   "execution_count": 12,
   "id": "0a36d5fc-aad9-4e38-a6d8-e8e6d21c9097",
   "metadata": {},
   "outputs": [],
   "source": [
    "import matplotlib.pyplot as plt"
   ]
  },
  {
   "cell_type": "code",
   "execution_count": 13,
   "id": "65a93eed-9593-41b7-9a53-7bfc70a6e241",
   "metadata": {},
   "outputs": [
    {
     "data": {
      "image/png": "[encoded data removed]",
      "text/plain": [
       "<Figure size 800x600 with 1 Axes>"
      ]
     },
     "metadata": {},
     "output_type": "display_data"
    }
   ],
   "source": [
    "plt.figure(figsize=(8,6))\n",
    "plt.scatter(X[:, 0], y, color='b', marker='o', s=20)\n",
    "plt.show()"
   ]
  },
  {
   "cell_type": "markdown",
   "id": "a4a3cef9-48c9-40b8-afb9-bf426435711d",
   "metadata": {},
   "source": [
    "### Training the Regression"
   ]
  },
  {
   "cell_type": "code",
   "execution_count": 20,
   "id": "498fc8dc-ec27-4260-9b5c-438f402f634b",
   "metadata": {},
   "outputs": [],
   "source": [
    "regressor = LinearRegression(lr=0.01,n_iter=1000)\n",
    "regressor.fit(X_train,y_train)"
   ]
  },
  {
   "cell_type": "markdown",
   "id": "9ec0da32-2d98-428f-84b6-4875043a11f5",
   "metadata": {},
   "source": [
    "### Predicting the Test set results"
   ]
  },
  {
   "cell_type": "code",
   "execution_count": 21,
   "id": "e9c824fe-3fb2-40c2-bfbd-d6f6e06df40e",
   "metadata": {},
   "outputs": [],
   "source": [
    "y_pred = regressor.predict(X_test)"
   ]
  },
  {
   "cell_type": "markdown",
   "id": "deb97533-e6aa-4108-b91d-f4b9863c7f95",
   "metadata": {},
   "source": [
    "### Calculating the Mean Square Error"
   ]
  },
  {
   "cell_type": "code",
   "execution_count": 22,
   "id": "edd89145-ce61-40d3-bacf-dce8a2cb007e",
   "metadata": {},
   "outputs": [],
   "source": [
    "def MSE(y, y_hat):\n",
    "    return (1/len(y))*np.sum((y-y_hat)**2)"
   ]
  },
  {
   "cell_type": "code",
   "execution_count": 23,
   "id": "2dd14bfc-5e73-4c48-8fc8-6a3bee48bdc4",
   "metadata": {},
   "outputs": [
    {
     "name": "stdout",
     "output_type": "stream",
     "text": [
      "MSE:  305.7719958301902\n"
     ]
    }
   ],
   "source": [
    "print('MSE: ', MSE(y_test, y_pred))"
   ]
  },
  {
   "cell_type": "markdown",
   "id": "9a3658bc-eea2-4520-8175-d64414790082",
   "metadata": {},
   "source": [
    "### Calucating Accuracy"
   ]
  },
  {
   "cell_type": "code",
   "execution_count": 25,
   "id": "8e7d82ce-9e87-4979-823d-9a13600d18f1",
   "metadata": {},
   "outputs": [],
   "source": [
    "def r2_score(y_true, y_pred):\n",
    "    corr_matrix = np.corrcoef(y_true, y_pred)\n",
    "    corr = corr_matrix[0, 1]\n",
    "    return corr ** 2"
   ]
  },
  {
   "cell_type": "code",
   "execution_count": 26,
   "id": "fba23d05-89ad-4a5e-bf0d-35c129881e2a",
   "metadata": {},
   "outputs": [
    {
     "name": "stdout",
     "output_type": "stream",
     "text": [
      "Accuracy: 0.9253717934621964\n"
     ]
    }
   ],
   "source": [
    "accu = r2_score(y_test, y_pred)\n",
    "print(\"Accuracy:\", accu)"
   ]
  },
  {
   "cell_type": "markdown",
   "id": "d6f3d15a-a068-449b-a187-b917f0b6559a",
   "metadata": {},
   "source": [
    "## Visualizing the results"
   ]
  },
  {
   "cell_type": "code",
   "execution_count": 24,
   "id": "243e1403-9a3d-45f9-85de-69eb78811ae0",
   "metadata": {},
   "outputs": [
    {
     "data": {
      "image/png": "[encoded data removed]",
      "text/plain": [
       "<Figure size 800x600 with 1 Axes>"
      ]
     },
     "metadata": {},
     "output_type": "display_data"
    }
   ],
   "source": [
    "y_pred_line = regressor.predict(X)\n",
    "cmap = plt.get_cmap(\"viridis\")\n",
    "fig = plt.figure(figsize=(8, 6))\n",
    "m1 = plt.scatter(X_train, y_train, color=cmap(0.9), s=10)\n",
    "m2 = plt.scatter(X_test, y_test, color=cmap(0.5), s=10)\n",
    "plt.plot(X, y_pred_line, color=\"black\", linewidth=2, label=\"Prediction\")\n",
    "plt.show()\n"
   ]
  }
 ],
 "metadata": {
  "kernelspec": {
   "display_name": "Python 3 (ipykernel)",
   "language": "python",
   "name": "python3"
  },
  "language_info": {
   "codemirror_mode": {
    "name": "ipython",
    "version": 3
   },
   "file_extension": ".py",
   "mimetype": "text/x-python",
   "name": "python",
   "nbconvert_exporter": "python",
   "pygments_lexer": "ipython3",
   "version": "3.11.5"
  }
 },
 "nbformat": 4,
 "nbformat_minor": 5
}
