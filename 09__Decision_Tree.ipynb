{
 "cells": [
  {
   "cell_type": "code",
   "execution_count": 40,
   "id": "a3f8027b-095c-4de9-abcb-8a43dc354ba1",
   "metadata": {},
   "outputs": [],
   "source": [
    "import numpy as np\n",
    "from collections import Counter"
   ]
  },
  {
   "cell_type": "code",
   "execution_count": 2,
   "id": "36943554-5ea0-425b-ab54-790f16409364",
   "metadata": {},
   "outputs": [
    {
     "data": {
      "text/plain": [
       "array([1, 2, 0, 4, 3])"
      ]
     },
     "execution_count": 2,
     "metadata": {},
     "output_type": "execute_result"
    }
   ],
   "source": [
    "np.random.choice(5,5, replace=False)"
   ]
  },
  {
   "cell_type": "code",
   "execution_count": 3,
   "id": "7decabe0-896d-4a7a-ac9f-4612398dd3eb",
   "metadata": {},
   "outputs": [
    {
     "data": {
      "text/plain": [
       "array([4, 5, 1, 6, 2])"
      ]
     },
     "execution_count": 3,
     "metadata": {},
     "output_type": "execute_result"
    }
   ],
   "source": [
    "np.random.choice([1,2,3,4,5,6,7], 5, replace=False)"
   ]
  },
  {
   "cell_type": "code",
   "execution_count": 7,
   "id": "b89b9007-7111-433d-bcec-37171c924810",
   "metadata": {},
   "outputs": [
    {
     "data": {
      "text/plain": [
       "array([ 0.,  1.,  2.,  3.,  4.,  5.,  6.,  7.,  8.,  9., 10.])"
      ]
     },
     "execution_count": 7,
     "metadata": {},
     "output_type": "execute_result"
    }
   ],
   "source": [
    "X = np.linspace(0,10,11)\n",
    "X"
   ]
  },
  {
   "cell_type": "code",
   "execution_count": 8,
   "id": "97752a1a-0276-4f43-b80e-3ad5364c0e81",
   "metadata": {},
   "outputs": [
    {
     "data": {
      "text/plain": [
       "array([[ 5],\n",
       "       [ 6],\n",
       "       [ 7],\n",
       "       [ 8],\n",
       "       [ 9],\n",
       "       [10]])"
      ]
     },
     "execution_count": 8,
     "metadata": {},
     "output_type": "execute_result"
    }
   ],
   "source": [
    "np.argwhere(X >= 5)"
   ]
  },
  {
   "cell_type": "code",
   "execution_count": 9,
   "id": "6194974d-5e6d-4bf9-a96c-7d9abc5edb5d",
   "metadata": {},
   "outputs": [
    {
     "data": {
      "text/plain": [
       "array([ 5,  6,  7,  8,  9, 10])"
      ]
     },
     "execution_count": 9,
     "metadata": {},
     "output_type": "execute_result"
    }
   ],
   "source": [
    "np.argwhere(X >=5).flatten()"
   ]
  },
  {
   "cell_type": "code",
   "execution_count": 4,
   "id": "8624bceb-19d7-41d2-9598-238d808f5a8d",
   "metadata": {},
   "outputs": [],
   "source": [
    "def entropy(y):\n",
    "    hist = np.bincount(y)\n",
    "    Ps = hist / len(y)\n",
    "    return -np.sum([p*np.log2(p) for p in Ps if p>0]) "
   ]
  },
  {
   "cell_type": "code",
   "execution_count": 5,
   "id": "d7c06fa9-33d4-4761-a49c-f734bb7990ec",
   "metadata": {},
   "outputs": [],
   "source": [
    "class Node:\n",
    "    def __init__(self, feature=None, threshold=None, left=None, right=None, *, value=None):\n",
    "        self.feature = feature\n",
    "        self.threshold = threshold\n",
    "        self.left = left\n",
    "        self.right = right\n",
    "        self.value = value\n",
    "\n",
    "    def is_leaf_node(self):\n",
    "        return self.value is not None"
   ]
  },
  {
   "cell_type": "code",
   "execution_count": 41,
   "id": "282bbc9f-0f5d-4cff-802b-7eb2b5ffc92d",
   "metadata": {},
   "outputs": [],
   "source": [
    "class DecisionTree:\n",
    "    def __init__(self, min_sample_split=2, max_depth=100, n_features=None):\n",
    "        self.min_sample_split = min_sample_split\n",
    "        self.max_depth = max_depth\n",
    "        self.n_features = n_features\n",
    "        self.root = None\n",
    "\n",
    "    def fit(self, X, y):\n",
    "        self.n_features = X.shape[1] if not self.n_features else min(self.n_features, X.shape[1])\n",
    "        self.root = self._grow_tree(X, y)\n",
    "\n",
    "    def predict(self, X):\n",
    "        return np.array([self._traverse_tree(x, self.root) for x in X])\n",
    "\n",
    "    def _traverse_tree(self, x, node):\n",
    "        if node.is_leaf_node():\n",
    "            return node.value\n",
    "        if x[node.feature] <= node.threshold:\n",
    "            return self._traverse_tree(x, node.left)\n",
    "        return self._traverse_tree(x, node.right)\n",
    "\n",
    "    def _grow_tree(self, X, y, depth=0):\n",
    "        N, n_features = X.shape\n",
    "        n_labels = len(np.unique(y))\n",
    "\n",
    "        # checking the stopping criteria:\n",
    "        if(depth >= self.max_depth\n",
    "          or N < self.min_sample_split\n",
    "          or n_labels == 1):\n",
    "            leaf_value = self._most_common(y)\n",
    "            return Node(value = leaf_value)\n",
    "\n",
    "        feature_idxs = np.random.choice(n_features, self.n_features, replace=False)\n",
    "        \n",
    "        best_feature, best_threshold = self._best_criteria(X, y, feature_idxs)\n",
    "        \n",
    "        left_idxs, right_idxs = self._split(X[:, best_feature], y, best_threshold)\n",
    "        \n",
    "        left = self._grow_tree(X[left_idxs, :], y[left_idxs], depth+1)\n",
    "        right = self._grow_tree(X[right_idxs, :], y[right_idxs], depth+1)\n",
    "\n",
    "        return Node(best_feature, best_threshold, left, right)\n",
    "\n",
    "    def _best_criteria(self, X, y, feature_idxs):\n",
    "        split_feature, split_threshold = None, None\n",
    "        best_gain = -1\n",
    "        for idx in feature_idxs:\n",
    "            X_column = X[:, idx]\n",
    "            thresholds = np.unique(X_column)\n",
    "            for threshold in thresholds:\n",
    "                gain = self._information_gain(y, X_column, threshold)\n",
    "\n",
    "                if gain > best_gain:\n",
    "                    best_gain = gain\n",
    "                    split_feature = idx\n",
    "                    split_threshold = threshold\n",
    "        return split_feature, split_threshold\n",
    "\n",
    "    def _information_gain(self, y, X_column, threshold):\n",
    "        entropy_parent = entropy(y)\n",
    "\n",
    "        left_idxs, right_idxs = self._split(X_column, y, threshold)\n",
    "\n",
    "        entropy_child = (len(left_idxs) / len(y))*(entropy(y[left_idxs])) + (len(right_idxs) / len(y))*(entropy(y[right_idxs]))\n",
    "\n",
    "        return entropy_parent - entropy_child\n",
    "\n",
    "    def _split(self, X_column, y, threshold):\n",
    "        left = np.argwhere(X_column <= threshold).flatten()\n",
    "        right = np.argwhere(X_column > threshold).flatten()\n",
    "        return left, right\n",
    "                    \n",
    "    def _most_common(self, y):\n",
    "        most_common = Counter(y).most_common(1)\n",
    "        return most_common[0][0]"
   ]
  },
  {
   "cell_type": "code",
   "execution_count": null,
   "id": "4ca0c295-e5dc-4da7-888b-e95e91cbf047",
   "metadata": {},
   "outputs": [],
   "source": []
  },
  {
   "cell_type": "code",
   "execution_count": 42,
   "id": "8f5cc4fe-e215-4405-9864-0304365d7b2e",
   "metadata": {},
   "outputs": [],
   "source": [
    "from sklearn import datasets"
   ]
  },
  {
   "cell_type": "code",
   "execution_count": 43,
   "id": "d768a946-3368-49d6-9064-420fc1d147bb",
   "metadata": {},
   "outputs": [],
   "source": [
    "data = datasets.load_breast_cancer()\n",
    "X, y = data.data, data.target"
   ]
  },
  {
   "cell_type": "code",
   "execution_count": 50,
   "id": "27a7e74f-a3e0-4de5-acc3-228bf5c2db70",
   "metadata": {},
   "outputs": [
    {
     "data": {
      "text/plain": [
       "(569, 30)"
      ]
     },
     "execution_count": 50,
     "metadata": {},
     "output_type": "execute_result"
    }
   ],
   "source": [
    "X.shape"
   ]
  },
  {
   "cell_type": "code",
   "execution_count": 51,
   "id": "c9049802-0d50-4409-afe8-0396a6e11d76",
   "metadata": {},
   "outputs": [
    {
     "data": {
      "text/plain": [
       "(569,)"
      ]
     },
     "execution_count": 51,
     "metadata": {},
     "output_type": "execute_result"
    }
   ],
   "source": [
    "y.shape"
   ]
  },
  {
   "cell_type": "code",
   "execution_count": 52,
   "id": "e53b30bb-2e29-467d-8aab-007fcecc17ab",
   "metadata": {},
   "outputs": [
    {
     "data": {
      "text/plain": [
       "numpy.ndarray"
      ]
     },
     "execution_count": 52,
     "metadata": {},
     "output_type": "execute_result"
    }
   ],
   "source": [
    "type(X)"
   ]
  },
  {
   "cell_type": "code",
   "execution_count": 53,
   "id": "7e6dbbe0-dd1c-4aad-a20d-55fc50ce8b55",
   "metadata": {},
   "outputs": [
    {
     "data": {
      "text/plain": [
       "numpy.ndarray"
      ]
     },
     "execution_count": 53,
     "metadata": {},
     "output_type": "execute_result"
    }
   ],
   "source": [
    "type(y)"
   ]
  },
  {
   "cell_type": "code",
   "execution_count": 44,
   "id": "d5669134-5498-4cb3-8bad-508ae2cb7422",
   "metadata": {},
   "outputs": [],
   "source": [
    "from sklearn.model_selection import train_test_split"
   ]
  },
  {
   "cell_type": "code",
   "execution_count": 45,
   "id": "75c49b63-5316-4d01-8dd7-1b58e40c3a53",
   "metadata": {},
   "outputs": [],
   "source": [
    "X_train, X_test, y_train, y_test = train_test_split(X, y, test_size=0.2, random_state=1234)"
   ]
  },
  {
   "cell_type": "code",
   "execution_count": null,
   "id": "546a5249-dc5b-4576-bfbf-3d6859a2875c",
   "metadata": {},
   "outputs": [],
   "source": []
  },
  {
   "cell_type": "code",
   "execution_count": 46,
   "id": "11e6b7b4-4b80-480a-838c-665c0c75823d",
   "metadata": {},
   "outputs": [],
   "source": [
    "clf = DecisionTree(max_depth=10)\n",
    "clf.fit(X_train, y_train)"
   ]
  },
  {
   "cell_type": "code",
   "execution_count": null,
   "id": "f121c8ae-02f9-4975-afad-b7c5946bac39",
   "metadata": {},
   "outputs": [],
   "source": []
  },
  {
   "cell_type": "code",
   "execution_count": 47,
   "id": "a3de3330-2b89-4195-b239-04a631f3706b",
   "metadata": {},
   "outputs": [],
   "source": [
    "y_pred = clf.predict(X_test)"
   ]
  },
  {
   "cell_type": "code",
   "execution_count": null,
   "id": "f69cc110-b1f9-48bb-b046-2f60efe6311e",
   "metadata": {},
   "outputs": [],
   "source": []
  },
  {
   "cell_type": "code",
   "execution_count": 48,
   "id": "42f44270-7d2e-41ed-8db9-780c865547cb",
   "metadata": {},
   "outputs": [],
   "source": [
    "def accuracy(y_true, y_pred):\n",
    "    accuracy = np.sum(y_true == y_pred) / len(y_true)\n",
    "    return accuracy"
   ]
  },
  {
   "cell_type": "code",
   "execution_count": 49,
   "id": "4fd21555-abf0-4400-86af-33e4b602658e",
   "metadata": {},
   "outputs": [
    {
     "name": "stdout",
     "output_type": "stream",
     "text": [
      "Accuracy: 0.9298245614035088\n"
     ]
    }
   ],
   "source": [
    "acc = accuracy(y_test, y_pred)\n",
    "print(\"Accuracy:\", acc)"
   ]
  },
  {
   "cell_type": "code",
   "execution_count": null,
   "id": "fb6b4fa5-cefd-4ed5-bc62-a8d8e9c5cde3",
   "metadata": {},
   "outputs": [],
   "source": []
  },
  {
   "cell_type": "code",
   "execution_count": null,
   "id": "7527ff49-2bee-4c8a-b419-19635947c9e6",
   "metadata": {},
   "outputs": [],
   "source": []
  },
  {
   "cell_type": "code",
   "execution_count": null,
   "id": "f82cd153-25d1-4808-bf68-619e91a7592c",
   "metadata": {},
   "outputs": [],
   "source": []
  },
  {
   "cell_type": "code",
   "execution_count": null,
   "id": "a78d2389-3567-445b-9a65-cc1b262f1fed",
   "metadata": {},
   "outputs": [],
   "source": []
  },
  {
   "cell_type": "code",
   "execution_count": null,
   "id": "b8f8a667-0adf-48f8-87e1-4ad53c9932d6",
   "metadata": {},
   "outputs": [],
   "source": []
  },
  {
   "cell_type": "code",
   "execution_count": null,
   "id": "d982749f-6d9f-48b1-9cf5-79ad55368001",
   "metadata": {},
   "outputs": [],
   "source": []
  },
  {
   "cell_type": "code",
   "execution_count": null,
   "id": "ea5f9f15-394a-4e8d-9665-83c4304ac79a",
   "metadata": {},
   "outputs": [],
   "source": []
  },
  {
   "cell_type": "code",
   "execution_count": null,
   "id": "51bc0a49-f4ef-4372-a59e-dd23468030bc",
   "metadata": {},
   "outputs": [],
   "source": []
  },
  {
   "cell_type": "code",
   "execution_count": null,
   "id": "a89a709a-bcfd-4b6b-9517-4cfe23be35b1",
   "metadata": {},
   "outputs": [],
   "source": []
  }
 ],
 "metadata": {
  "kernelspec": {
   "display_name": "Python 3 (ipykernel)",
   "language": "python",
   "name": "python3"
  },
  "language_info": {
   "codemirror_mode": {
    "name": "ipython",
    "version": 3
   },
   "file_extension": ".py",
   "mimetype": "text/x-python",
   "name": "python",
   "nbconvert_exporter": "python",
   "pygments_lexer": "ipython3",
   "version": "3.11.5"
  }
 },
 "nbformat": 4,
 "nbformat_minor": 5
}
