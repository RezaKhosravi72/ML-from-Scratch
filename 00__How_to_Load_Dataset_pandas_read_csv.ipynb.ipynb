{
 "cells": [
  {
   "cell_type": "code",
   "execution_count": 8,
   "id": "3ced1982-583b-40a2-b931-34c53018cd04",
   "metadata": {},
   "outputs": [],
   "source": [
    "import csv\n",
    "import numpy as np\n",
    "import pandas as pd"
   ]
  },
  {
   "cell_type": "code",
   "execution_count": 9,
   "id": "da09c885-4d3b-4320-a922-e373d5627fc9",
   "metadata": {},
   "outputs": [],
   "source": [
    "file_name = 'spambase.data'"
   ]
  },
  {
   "cell_type": "code",
   "execution_count": 23,
   "id": "15b75b38-81b1-43bc-85b6-03b80766914c",
   "metadata": {},
   "outputs": [],
   "source": [
    "data = pd.read_csv(file_name, delimiter=',', \n",
    "                   dtype=np.float32, \n",
    "                   header = None,\n",
    "                   skiprows=1,\n",
    "                   na_values=['hello','-','!'],)\n",
    "data = data.fillna(0.0)"
   ]
  },
  {
   "cell_type": "code",
   "execution_count": 24,
   "id": "5e2c8727-9258-41b3-af28-f92f101aa8ed",
   "metadata": {},
   "outputs": [
    {
     "data": {
      "text/plain": [
       "(4601, 58)"
      ]
     },
     "execution_count": 24,
     "metadata": {},
     "output_type": "execute_result"
    }
   ],
   "source": [
    "data.shape"
   ]
  },
  {
   "cell_type": "code",
   "execution_count": 25,
   "id": "bbe1a07d-d384-4bc9-bb7e-ab1b6bb45302",
   "metadata": {},
   "outputs": [
    {
     "data": {
      "text/plain": [
       "Index([ 0,  1,  2,  3,  4,  5,  6,  7,  8,  9, 10, 11, 12, 13, 14, 15, 16, 17,\n",
       "       18, 19, 20, 21, 22, 23, 24, 25, 26, 27, 28, 29, 30, 31, 32, 33, 34, 35,\n",
       "       36, 37, 38, 39, 40, 41, 42, 43, 44, 45, 46, 47, 48, 49, 50, 51, 52, 53,\n",
       "       54, 55, 56, 57],\n",
       "      dtype='int64')"
      ]
     },
     "execution_count": 25,
     "metadata": {},
     "output_type": "execute_result"
    }
   ],
   "source": [
    "data.columns"
   ]
  },
  {
   "cell_type": "code",
   "execution_count": 26,
   "id": "e35746b3-6d72-42be-b9f8-956ba427e1a7",
   "metadata": {},
   "outputs": [
    {
     "data": {
      "text/plain": [
       "0       0.00\n",
       "1       0.21\n",
       "2       0.06\n",
       "3       0.00\n",
       "4       0.00\n",
       "        ... \n",
       "4596    0.31\n",
       "4597    0.00\n",
       "4598    0.30\n",
       "4599    0.96\n",
       "4600    0.00\n",
       "Name: 0, Length: 4601, dtype: float32"
      ]
     },
     "execution_count": 26,
     "metadata": {},
     "output_type": "execute_result"
    }
   ],
   "source": [
    "data[0]"
   ]
  },
  {
   "cell_type": "code",
   "execution_count": 27,
   "id": "3b4a1033-7496-40df-8133-e526f67e2301",
   "metadata": {
    "scrolled": true
   },
   "outputs": [
    {
     "data": {
      "text/plain": [
       "0       0.000\n",
       "1       0.640\n",
       "2       0.640\n",
       "3       0.000\n",
       "4       0.320\n",
       "5       0.000\n",
       "6       0.000\n",
       "7       0.000\n",
       "8       0.000\n",
       "9       0.000\n",
       "10      0.000\n",
       "11      0.640\n",
       "12      0.000\n",
       "13      0.000\n",
       "14      0.000\n",
       "15      0.320\n",
       "16      0.000\n",
       "17      1.290\n",
       "18      1.930\n",
       "19      0.000\n",
       "20      0.960\n",
       "21      0.000\n",
       "22      0.000\n",
       "23      0.000\n",
       "24      0.000\n",
       "25      0.000\n",
       "26      0.000\n",
       "27      0.000\n",
       "28      0.000\n",
       "29      0.000\n",
       "30      0.000\n",
       "31      0.000\n",
       "32      0.000\n",
       "33      0.000\n",
       "34      0.000\n",
       "35      0.000\n",
       "36      0.000\n",
       "37      0.000\n",
       "38      0.000\n",
       "39      0.000\n",
       "40      0.000\n",
       "41      0.000\n",
       "42      0.000\n",
       "43      0.000\n",
       "44      0.000\n",
       "45      0.000\n",
       "46      0.000\n",
       "47      0.000\n",
       "48      0.000\n",
       "49      0.000\n",
       "50      0.000\n",
       "51      0.778\n",
       "52      0.000\n",
       "53      0.000\n",
       "54      3.756\n",
       "55     61.000\n",
       "56    278.000\n",
       "57      1.000\n",
       "Name: 0, dtype: float32"
      ]
     },
     "execution_count": 27,
     "metadata": {},
     "output_type": "execute_result"
    }
   ],
   "source": [
    "data.iloc[0]"
   ]
  }
 ],
 "metadata": {
  "kernelspec": {
   "display_name": "Python 3 (ipykernel)",
   "language": "python",
   "name": "python3"
  },
  "language_info": {
   "codemirror_mode": {
    "name": "ipython",
    "version": 3
   },
   "file_extension": ".py",
   "mimetype": "text/x-python",
   "name": "python",
   "nbconvert_exporter": "python",
   "pygments_lexer": "ipython3",
   "version": "3.11.5"
  }
 },
 "nbformat": 4,
 "nbformat_minor": 5
}
